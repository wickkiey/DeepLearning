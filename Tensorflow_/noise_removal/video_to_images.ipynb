{
 "cells": [
  {
   "cell_type": "code",
   "execution_count": 36,
   "metadata": {},
   "outputs": [],
   "source": [
    "import cv2\n",
    "import numpy as np"
   ]
  },
  {
   "cell_type": "code",
   "execution_count": 37,
   "metadata": {},
   "outputs": [],
   "source": [
    "# video_path = r\"D:\\digital_enhancement\\InputVideos\\Ganesh Sends A Messenger _ Vighnaharta Ganesh - Ep 143 _ Full Episode _ 16 March 2022.mp4\"\n",
    "# video_path = r\"D:\\digital_enhancement\\InputVideos\\Vighnaharta Ganesh - Ep 144 - Full Episode - 13th March, 2018.mp4\"\n",
    "# video_path = r\"D:\\digital_enhancement\\InputVideos\\Vighnaharta Ganesh - विघ्नहर्ता  गणेश - Ep 01 - 22nd August, 2017.mp4\"\n",
    "video_path = r\"D:\\digital_enhancement\\InputVideos\\Vighnaharta Ganesh - विघ्नहर्ता गणेश - Ep 05 - 28th August, 2017.mp4\"\n",
    "output_path = f\"D:/digital_enhancement/images/training_images\"  "
   ]
  },
  {
   "cell_type": "code",
   "execution_count": 38,
   "metadata": {},
   "outputs": [
    {
     "name": "stdout",
     "output_type": "stream",
     "text": [
      "D:\\digital_enhancement\\InputVideos\\Vighnaharta Ganesh - विघ्नहर्ता गणेश - Ep 05 - 28th August, 2017.mp4 553\n"
     ]
    }
   ],
   "source": [
    "cap = cv2.VideoCapture(video_path)\n",
    " \n",
    "# Check if camera opened successfully\n",
    "if (cap.isOpened()== False): \n",
    "  print(\"Error opening video stream or file\")\n",
    " \n",
    "# Read until video is completed\n",
    "counter = 0 \n",
    "file_pointer = 0\n",
    "while(cap.isOpened()):\n",
    "  # Capture frame-by-frame\n",
    "  ret, frame = cap.read()\n",
    "  if ret == True:\n",
    "      cv2.imwrite(f\"{output_path}\\image4_{counter}.jpg\", frame)\n",
    "      counter += 1\n",
    "      file_pointer += 60\n",
    "      cap.set(cv2.CAP_PROP_POS_FRAMES, file_pointer)\n",
    "  # Break the loop\n",
    "  else: \n",
    "    break\n",
    "  \n",
    "  if counter == 1000:\n",
    "    break\n",
    "  \n",
    " \n",
    "# When everything done, release the video capture object\n",
    "cap.release()\n",
    "\n",
    "print(video_path, counter)\n"
   ]
  },
  {
   "cell_type": "code",
   "execution_count": 39,
   "metadata": {},
   "outputs": [],
   "source": [
    "# D:\\digital_enhancement\\InputVideos\\Ganesh Sends A Messenger _ Vighnaharta Ganesh - Ep 143 _ Full Episode _ 16 March 2022.mp4 778\n",
    "# D:\\digital_enhancement\\InputVideos\\Vighnaharta Ganesh - Ep 144 - Full Episode - 13th March, 2018.mp4 777\n",
    "# D:\\digital_enhancement\\InputVideos\\Vighnaharta Ganesh - विघ्नहर्ता  गणेश - Ep 01 - 22nd August, 2017.mp4 1000\n",
    "# D:\\digital_enhancement\\InputVideos\\Vighnaharta Ganesh - विघ्नहर्ता गणेश - Ep 05 - 28th August, 2017.mp4 553"
   ]
  }
 ],
 "metadata": {
  "kernelspec": {
   "display_name": "gpu",
   "language": "python",
   "name": "python3"
  },
  "language_info": {
   "codemirror_mode": {
    "name": "ipython",
    "version": 3
   },
   "file_extension": ".py",
   "mimetype": "text/x-python",
   "name": "python",
   "nbconvert_exporter": "python",
   "pygments_lexer": "ipython3",
   "version": "3.9.13"
  },
  "orig_nbformat": 4,
  "vscode": {
   "interpreter": {
    "hash": "68ba60249a85c0ecf3a298dfdd772960cabc5178b528ab7c7b7cd8ed3465f734"
   }
  }
 },
 "nbformat": 4,
 "nbformat_minor": 2
}
