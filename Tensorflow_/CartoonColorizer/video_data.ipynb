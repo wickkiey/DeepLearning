{
 "cells": [
  {
   "cell_type": "code",
   "execution_count": 1,
   "metadata": {},
   "outputs": [],
   "source": [
    "import tensorflow as tf\n",
    "import cv2\n",
    "import numpy as np "
   ]
  },
  {
   "cell_type": "code",
   "execution_count": 2,
   "metadata": {},
   "outputs": [],
   "source": [
    "video_path = r\"D:\\digital_enhancement\\video.mp4\""
   ]
  },
  {
   "cell_type": "code",
   "execution_count": null,
   "metadata": {},
   "outputs": [],
   "source": [
    "# Read the video from specified path with opencv\n",
    "\n",
    "cv2.VideoCapture(video_path)\n",
    "\n",
    "# Read video from frame index \n",
    "\n",
    "def get_index(index):\n",
    "    cap = cv2.VideoCapture(video_path)\n",
    "    cap.set(1, index)\n",
    "    ret, frame = cap.read()\n",
    "    cap.release()\n",
    "    return frame"
   ]
  },
  {
   "cell_type": "code",
   "execution_count": null,
   "metadata": {},
   "outputs": [],
   "source": [
    "# opencv to tensorflow tensor\n",
    "\n",
    "def frame_to_tensor(frame):\n",
    "    tf_frame = tf.convert_to_tensor(frame)"
   ]
  }
 ],
 "metadata": {
  "kernelspec": {
   "display_name": "gpu",
   "language": "python",
   "name": "python3"
  },
  "language_info": {
   "codemirror_mode": {
    "name": "ipython",
    "version": 3
   },
   "file_extension": ".py",
   "mimetype": "text/x-python",
   "name": "python",
   "nbconvert_exporter": "python",
   "pygments_lexer": "ipython3",
   "version": "3.9.13"
  },
  "orig_nbformat": 4,
  "vscode": {
   "interpreter": {
    "hash": "68ba60249a85c0ecf3a298dfdd772960cabc5178b528ab7c7b7cd8ed3465f734"
   }
  }
 },
 "nbformat": 4,
 "nbformat_minor": 2
}
