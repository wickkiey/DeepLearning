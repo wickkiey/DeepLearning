{
 "cells": [
  {
   "cell_type": "code",
   "execution_count": 1,
   "metadata": {},
   "outputs": [],
   "source": [
    "import tensorflow as tf \n",
    "import tensorflow_datasets as tfds\n",
    "from tensorflow.keras import layers, models, optimizers, losses, metrics\n",
    "import tensorboard"
   ]
  },
  {
   "cell_type": "code",
   "execution_count": 9,
   "metadata": {},
   "outputs": [],
   "source": [
    "%load_ext tensorboard"
   ]
  },
  {
   "cell_type": "code",
   "execution_count": 2,
   "metadata": {},
   "outputs": [],
   "source": [
    "# generate a random tensor of size 3x3\n",
    "\n",
    "def get_data(sz = 4):\n",
    "    x =  tf.random.normal((sz,3))\n",
    "    y = tf.random.normal((sz,1))\n",
    "    return (x,y)"
   ]
  },
  {
   "cell_type": "code",
   "execution_count": 3,
   "metadata": {},
   "outputs": [
    {
     "data": {
      "text/plain": [
       "(<tf.Tensor: shape=(4, 3), dtype=float32, numpy=\n",
       " array([[-0.12771428,  0.06715772, -0.5954443 ],\n",
       "        [-0.6053379 , -3.487289  , -0.28666818],\n",
       "        [-0.9452204 ,  0.25525218, -1.3282195 ],\n",
       "        [-0.06579804, -1.7529793 , -1.6900126 ]], dtype=float32)>,\n",
       " <tf.Tensor: shape=(4, 1), dtype=float32, numpy=\n",
       " array([[-1.700986  ],\n",
       "        [-0.9078052 ],\n",
       "        [ 0.10713813],\n",
       "        [ 0.15433644]], dtype=float32)>)"
      ]
     },
     "execution_count": 3,
     "metadata": {},
     "output_type": "execute_result"
    }
   ],
   "source": [
    "get_data()"
   ]
  },
  {
   "cell_type": "code",
   "execution_count": 4,
   "metadata": {},
   "outputs": [],
   "source": [
    "# tensorboard callback to log the loss and weights\n",
    "\n",
    "tfb = tf.keras.callbacks.TensorBoard(log_dir = 'logs')\n"
   ]
  },
  {
   "cell_type": "code",
   "execution_count": 5,
   "metadata": {},
   "outputs": [],
   "source": [
    "tf_model = tf.keras.Sequential([\n",
    "    layers.Input(shape=(3,)),\n",
    "    layers.Dense(2, activation='relu'),\n",
    "])\n",
    "\n",
    "tf_model.compile(optimizer='adam', loss='mse', metrics=['mse'])\n",
    "    "
   ]
  },
  {
   "cell_type": "code",
   "execution_count": 6,
   "metadata": {},
   "outputs": [],
   "source": [
    "x, y = get_data(100)"
   ]
  },
  {
   "cell_type": "code",
   "execution_count": 7,
   "metadata": {},
   "outputs": [
    {
     "name": "stdout",
     "output_type": "stream",
     "text": [
      "Epoch 1/100\n",
      "4/4 [==============================] - 3s 4ms/step - loss: 1.9373 - mse: 1.9373\n",
      "Epoch 2/100\n",
      "4/4 [==============================] - 0s 5ms/step - loss: 1.9266 - mse: 1.9266\n",
      "Epoch 3/100\n",
      "4/4 [==============================] - 0s 5ms/step - loss: 1.9152 - mse: 1.9152\n",
      "Epoch 4/100\n",
      "4/4 [==============================] - 0s 5ms/step - loss: 1.9049 - mse: 1.9049\n",
      "Epoch 5/100\n",
      "4/4 [==============================] - 0s 5ms/step - loss: 1.8954 - mse: 1.8954\n",
      "Epoch 6/100\n",
      "4/4 [==============================] - 0s 4ms/step - loss: 1.8855 - mse: 1.8855\n",
      "Epoch 7/100\n",
      "4/4 [==============================] - 0s 3ms/step - loss: 1.8757 - mse: 1.8757\n",
      "Epoch 8/100\n",
      "4/4 [==============================] - 0s 5ms/step - loss: 1.8655 - mse: 1.8655\n",
      "Epoch 9/100\n",
      "4/4 [==============================] - 0s 5ms/step - loss: 1.8548 - mse: 1.8548\n",
      "Epoch 10/100\n",
      "4/4 [==============================] - 0s 4ms/step - loss: 1.8456 - mse: 1.8456\n",
      "Epoch 11/100\n",
      "4/4 [==============================] - 0s 5ms/step - loss: 1.8348 - mse: 1.8348\n",
      "Epoch 12/100\n",
      "4/4 [==============================] - 0s 13ms/step - loss: 1.8247 - mse: 1.8247\n",
      "Epoch 13/100\n",
      "4/4 [==============================] - 0s 6ms/step - loss: 1.8154 - mse: 1.8154\n",
      "Epoch 14/100\n",
      "4/4 [==============================] - 0s 5ms/step - loss: 1.8068 - mse: 1.8068\n",
      "Epoch 15/100\n",
      "4/4 [==============================] - 0s 4ms/step - loss: 1.7984 - mse: 1.7984\n",
      "Epoch 16/100\n",
      "4/4 [==============================] - 0s 3ms/step - loss: 1.7892 - mse: 1.7892\n",
      "Epoch 17/100\n",
      "4/4 [==============================] - 0s 3ms/step - loss: 1.7809 - mse: 1.7809\n",
      "Epoch 18/100\n",
      "4/4 [==============================] - 0s 3ms/step - loss: 1.7715 - mse: 1.7715\n",
      "Epoch 19/100\n",
      "4/4 [==============================] - 0s 4ms/step - loss: 1.7625 - mse: 1.7625\n",
      "Epoch 20/100\n",
      "4/4 [==============================] - 0s 3ms/step - loss: 1.7543 - mse: 1.7543\n",
      "Epoch 21/100\n",
      "4/4 [==============================] - 0s 3ms/step - loss: 1.7453 - mse: 1.7453\n",
      "Epoch 22/100\n",
      "4/4 [==============================] - 0s 4ms/step - loss: 1.7366 - mse: 1.7366\n",
      "Epoch 23/100\n",
      "4/4 [==============================] - 0s 3ms/step - loss: 1.7278 - mse: 1.7278\n",
      "Epoch 24/100\n",
      "4/4 [==============================] - 0s 3ms/step - loss: 1.7186 - mse: 1.7186\n",
      "Epoch 25/100\n",
      "4/4 [==============================] - 0s 4ms/step - loss: 1.7104 - mse: 1.7104\n",
      "Epoch 26/100\n",
      "4/4 [==============================] - 0s 4ms/step - loss: 1.7027 - mse: 1.7027\n",
      "Epoch 27/100\n",
      "4/4 [==============================] - 0s 3ms/step - loss: 1.6941 - mse: 1.6941\n",
      "Epoch 28/100\n",
      "4/4 [==============================] - 0s 3ms/step - loss: 1.6863 - mse: 1.6863\n",
      "Epoch 29/100\n",
      "4/4 [==============================] - 0s 3ms/step - loss: 1.6779 - mse: 1.6779\n",
      "Epoch 30/100\n",
      "4/4 [==============================] - 0s 3ms/step - loss: 1.6698 - mse: 1.6698\n",
      "Epoch 31/100\n",
      "4/4 [==============================] - 0s 3ms/step - loss: 1.6615 - mse: 1.6615\n",
      "Epoch 32/100\n",
      "4/4 [==============================] - 0s 4ms/step - loss: 1.6542 - mse: 1.6542\n",
      "Epoch 33/100\n",
      "4/4 [==============================] - 0s 3ms/step - loss: 1.6461 - mse: 1.6461\n",
      "Epoch 34/100\n",
      "4/4 [==============================] - 0s 4ms/step - loss: 1.6391 - mse: 1.6391\n",
      "Epoch 35/100\n",
      "4/4 [==============================] - 0s 4ms/step - loss: 1.6322 - mse: 1.6322\n",
      "Epoch 36/100\n",
      "4/4 [==============================] - 0s 4ms/step - loss: 1.6254 - mse: 1.6254\n",
      "Epoch 37/100\n",
      "4/4 [==============================] - 0s 3ms/step - loss: 1.6181 - mse: 1.6181\n",
      "Epoch 38/100\n",
      "4/4 [==============================] - 0s 3ms/step - loss: 1.6114 - mse: 1.6114\n",
      "Epoch 39/100\n",
      "4/4 [==============================] - 0s 3ms/step - loss: 1.6051 - mse: 1.6051\n",
      "Epoch 40/100\n",
      "4/4 [==============================] - 0s 4ms/step - loss: 1.5986 - mse: 1.5986\n",
      "Epoch 41/100\n",
      "4/4 [==============================] - 0s 3ms/step - loss: 1.5920 - mse: 1.5920\n",
      "Epoch 42/100\n",
      "4/4 [==============================] - 0s 3ms/step - loss: 1.5856 - mse: 1.5856\n",
      "Epoch 43/100\n",
      "4/4 [==============================] - 0s 3ms/step - loss: 1.5788 - mse: 1.5788\n",
      "Epoch 44/100\n",
      "4/4 [==============================] - 0s 4ms/step - loss: 1.5716 - mse: 1.5716\n",
      "Epoch 45/100\n",
      "4/4 [==============================] - 0s 5ms/step - loss: 1.5651 - mse: 1.5651\n",
      "Epoch 46/100\n",
      "4/4 [==============================] - 0s 6ms/step - loss: 1.5581 - mse: 1.5581\n",
      "Epoch 47/100\n",
      "4/4 [==============================] - 0s 5ms/step - loss: 1.5515 - mse: 1.5515\n",
      "Epoch 48/100\n",
      "4/4 [==============================] - 0s 4ms/step - loss: 1.5450 - mse: 1.5450\n",
      "Epoch 49/100\n",
      "4/4 [==============================] - 0s 4ms/step - loss: 1.5389 - mse: 1.5389\n",
      "Epoch 50/100\n",
      "4/4 [==============================] - 0s 4ms/step - loss: 1.5329 - mse: 1.5329\n",
      "Epoch 51/100\n",
      "4/4 [==============================] - 0s 4ms/step - loss: 1.5273 - mse: 1.5273\n",
      "Epoch 52/100\n",
      "4/4 [==============================] - 0s 4ms/step - loss: 1.5219 - mse: 1.5219\n",
      "Epoch 53/100\n",
      "4/4 [==============================] - 0s 3ms/step - loss: 1.5153 - mse: 1.5153\n",
      "Epoch 54/100\n",
      "4/4 [==============================] - 0s 5ms/step - loss: 1.5096 - mse: 1.5096\n",
      "Epoch 55/100\n",
      "4/4 [==============================] - 0s 4ms/step - loss: 1.5030 - mse: 1.5030\n",
      "Epoch 56/100\n",
      "4/4 [==============================] - 0s 4ms/step - loss: 1.4968 - mse: 1.4968\n",
      "Epoch 57/100\n",
      "4/4 [==============================] - 0s 5ms/step - loss: 1.4905 - mse: 1.4905\n",
      "Epoch 58/100\n",
      "4/4 [==============================] - 0s 4ms/step - loss: 1.4842 - mse: 1.4842\n",
      "Epoch 59/100\n",
      "4/4 [==============================] - 0s 5ms/step - loss: 1.4790 - mse: 1.4790\n",
      "Epoch 60/100\n",
      "4/4 [==============================] - 0s 3ms/step - loss: 1.4735 - mse: 1.4735\n",
      "Epoch 61/100\n",
      "4/4 [==============================] - 0s 4ms/step - loss: 1.4682 - mse: 1.4682\n",
      "Epoch 62/100\n",
      "4/4 [==============================] - 0s 4ms/step - loss: 1.4621 - mse: 1.4621\n",
      "Epoch 63/100\n",
      "4/4 [==============================] - 0s 4ms/step - loss: 1.4570 - mse: 1.4570\n",
      "Epoch 64/100\n",
      "4/4 [==============================] - 0s 4ms/step - loss: 1.4521 - mse: 1.4521\n",
      "Epoch 65/100\n",
      "4/4 [==============================] - 0s 4ms/step - loss: 1.4469 - mse: 1.4469\n",
      "Epoch 66/100\n",
      "4/4 [==============================] - 0s 5ms/step - loss: 1.4420 - mse: 1.4420\n",
      "Epoch 67/100\n",
      "4/4 [==============================] - 0s 5ms/step - loss: 1.4369 - mse: 1.4369\n",
      "Epoch 68/100\n",
      "4/4 [==============================] - 0s 4ms/step - loss: 1.4321 - mse: 1.4321\n",
      "Epoch 69/100\n",
      "4/4 [==============================] - 0s 4ms/step - loss: 1.4270 - mse: 1.4270\n",
      "Epoch 70/100\n",
      "4/4 [==============================] - 0s 4ms/step - loss: 1.4224 - mse: 1.4224\n",
      "Epoch 71/100\n",
      "4/4 [==============================] - 0s 3ms/step - loss: 1.4178 - mse: 1.4178\n",
      "Epoch 72/100\n",
      "4/4 [==============================] - 0s 4ms/step - loss: 1.4134 - mse: 1.4134\n",
      "Epoch 73/100\n",
      "4/4 [==============================] - 0s 4ms/step - loss: 1.4096 - mse: 1.4096\n",
      "Epoch 74/100\n",
      "4/4 [==============================] - 0s 4ms/step - loss: 1.4057 - mse: 1.4057\n",
      "Epoch 75/100\n",
      "4/4 [==============================] - 0s 3ms/step - loss: 1.4018 - mse: 1.4018\n",
      "Epoch 76/100\n",
      "4/4 [==============================] - 0s 3ms/step - loss: 1.3977 - mse: 1.3977\n",
      "Epoch 77/100\n",
      "4/4 [==============================] - 0s 3ms/step - loss: 1.3934 - mse: 1.3934\n",
      "Epoch 78/100\n",
      "4/4 [==============================] - 0s 4ms/step - loss: 1.3891 - mse: 1.3891\n",
      "Epoch 79/100\n",
      "4/4 [==============================] - 0s 4ms/step - loss: 1.3846 - mse: 1.3846\n",
      "Epoch 80/100\n",
      "4/4 [==============================] - 0s 4ms/step - loss: 1.3801 - mse: 1.3801\n",
      "Epoch 81/100\n",
      "4/4 [==============================] - 0s 4ms/step - loss: 1.3758 - mse: 1.3758\n",
      "Epoch 82/100\n",
      "4/4 [==============================] - 0s 4ms/step - loss: 1.3716 - mse: 1.3716\n",
      "Epoch 83/100\n",
      "4/4 [==============================] - 0s 12ms/step - loss: 1.3680 - mse: 1.3680\n",
      "Epoch 84/100\n",
      "4/4 [==============================] - 0s 4ms/step - loss: 1.3636 - mse: 1.3636\n",
      "Epoch 85/100\n",
      "4/4 [==============================] - 0s 4ms/step - loss: 1.3592 - mse: 1.3592\n",
      "Epoch 86/100\n",
      "4/4 [==============================] - 0s 3ms/step - loss: 1.3550 - mse: 1.3550\n",
      "Epoch 87/100\n",
      "4/4 [==============================] - 0s 3ms/step - loss: 1.3512 - mse: 1.3512\n",
      "Epoch 88/100\n",
      "4/4 [==============================] - 0s 4ms/step - loss: 1.3475 - mse: 1.3475\n",
      "Epoch 89/100\n",
      "4/4 [==============================] - 0s 3ms/step - loss: 1.3439 - mse: 1.3439\n",
      "Epoch 90/100\n",
      "4/4 [==============================] - 0s 3ms/step - loss: 1.3403 - mse: 1.3403\n",
      "Epoch 91/100\n",
      "4/4 [==============================] - 0s 3ms/step - loss: 1.3370 - mse: 1.3370\n",
      "Epoch 92/100\n",
      "4/4 [==============================] - 0s 3ms/step - loss: 1.3342 - mse: 1.3342\n",
      "Epoch 93/100\n",
      "4/4 [==============================] - 0s 4ms/step - loss: 1.3312 - mse: 1.3312\n",
      "Epoch 94/100\n",
      "4/4 [==============================] - 0s 2ms/step - loss: 1.3283 - mse: 1.3283\n",
      "Epoch 95/100\n",
      "4/4 [==============================] - 0s 4ms/step - loss: 1.3254 - mse: 1.3254\n",
      "Epoch 96/100\n",
      "4/4 [==============================] - 0s 3ms/step - loss: 1.3222 - mse: 1.3222\n",
      "Epoch 97/100\n",
      "4/4 [==============================] - 0s 3ms/step - loss: 1.3192 - mse: 1.3192\n",
      "Epoch 98/100\n",
      "4/4 [==============================] - 0s 9ms/step - loss: 1.3158 - mse: 1.3158\n",
      "Epoch 99/100\n",
      "4/4 [==============================] - 0s 3ms/step - loss: 1.3127 - mse: 1.3127\n",
      "Epoch 100/100\n",
      "4/4 [==============================] - 0s 3ms/step - loss: 1.3097 - mse: 1.3097\n"
     ]
    },
    {
     "data": {
      "text/plain": [
       "<keras.callbacks.History at 0x2c8800a9700>"
      ]
     },
     "execution_count": 7,
     "metadata": {},
     "output_type": "execute_result"
    }
   ],
   "source": [
    "tf_model.fit(x, y, epochs=100)"
   ]
  },
  {
   "cell_type": "code",
   "execution_count": 10,
   "metadata": {},
   "outputs": [
    {
     "data": {
      "text/plain": [
       "ERROR: Failed to launch TensorBoard (exited with 1).\n",
       "Contents of stderr:\n",
       "Traceback (most recent call last):\n",
       "  File \"C:\\Users\\vivek\\anaconda3\\envs\\gpu\\Scripts\\tensorboard-script.py\", line 9, in <module>\n",
       "    sys.exit(run_main())\n",
       "  File \"C:\\Users\\vivek\\anaconda3\\envs\\gpu\\lib\\site-packages\\tensorboard\\main.py\", line 46, in run_main\n",
       "    app.run(tensorboard.main, flags_parser=tensorboard.configure)\n",
       "  File \"C:\\Users\\vivek\\anaconda3\\envs\\gpu\\lib\\site-packages\\absl\\app.py\", line 308, in run\n",
       "    _run_main(main, args)\n",
       "  File \"C:\\Users\\vivek\\anaconda3\\envs\\gpu\\lib\\site-packages\\absl\\app.py\", line 254, in _run_main\n",
       "    sys.exit(main(argv))\n",
       "  File \"C:\\Users\\vivek\\anaconda3\\envs\\gpu\\lib\\site-packages\\tensorboard\\program.py\", line 276, in main\n",
       "    return runner(self.flags) or 0\n",
       "  File \"C:\\Users\\vivek\\anaconda3\\envs\\gpu\\lib\\site-packages\\tensorboard\\program.py\", line 292, in _run_serve_subcommand\n",
       "    server = self._make_server()\n",
       "  File \"C:\\Users\\vivek\\anaconda3\\envs\\gpu\\lib\\site-packages\\tensorboard\\program.py\", line 467, in _make_server\n",
       "    app = application.TensorBoardWSGIApp(\n",
       "  File \"C:\\Users\\vivek\\anaconda3\\envs\\gpu\\lib\\site-packages\\tensorboard\\backend\\application.py\", line 140, in TensorBoardWSGIApp\n",
       "    return TensorBoardWSGI(\n",
       "  File \"C:\\Users\\vivek\\anaconda3\\envs\\gpu\\lib\\site-packages\\tensorboard\\backend\\application.py\", line 253, in __init__\n",
       "    raise ValueError(\n",
       "ValueError: Duplicate plugins for name projector"
      ]
     },
     "metadata": {},
     "output_type": "display_data"
    }
   ],
   "source": [
    "%tensorboard --logdir logs"
   ]
  },
  {
   "cell_type": "code",
   "execution_count": null,
   "metadata": {},
   "outputs": [],
   "source": []
  }
 ],
 "metadata": {
  "kernelspec": {
   "display_name": "gpu",
   "language": "python",
   "name": "python3"
  },
  "language_info": {
   "codemirror_mode": {
    "name": "ipython",
    "version": 3
   },
   "file_extension": ".py",
   "mimetype": "text/x-python",
   "name": "python",
   "nbconvert_exporter": "python",
   "pygments_lexer": "ipython3",
   "version": "3.9.13"
  },
  "orig_nbformat": 4
 },
 "nbformat": 4,
 "nbformat_minor": 2
}
