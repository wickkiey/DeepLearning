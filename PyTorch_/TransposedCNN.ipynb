{
 "cells": [
  {
   "cell_type": "code",
   "execution_count": 1,
   "metadata": {},
   "outputs": [],
   "source": [
    "import torch\n",
    "import torchvision\n",
    "import torchvision.transforms as transforms\n",
    "import torchvision.datasets as datasets\n",
    "from torchvision.utils import make_grid\n",
    "import matplotlib.pyplot as plt\n",
    "import torchvision.transforms.functional as tF\n",
    "import numpy as np\n",
    "import torch.optim as optim \n",
    "import torch.nn as nn\n",
    "import torch.nn.functional as F"
   ]
  },
  {
   "cell_type": "code",
   "execution_count": 2,
   "metadata": {},
   "outputs": [],
   "source": [
    "def show(imgs):\n",
    "    if not isinstance(imgs, list):\n",
    "        imgs = [imgs]\n",
    "    fix, axs = plt.subplots(ncols=len(imgs), squeeze=False)\n",
    "    for i, img in enumerate(imgs):\n",
    "        img = img.detach()\n",
    "        img = tF.to_pil_image(img)\n",
    "        axs[0, i].imshow(np.asarray(img))\n",
    "        axs[0, i].set(xticklabels=[], yticklabels=[], xticks=[], yticks=[])"
   ]
  },
  {
   "cell_type": "code",
   "execution_count": 3,
   "metadata": {},
   "outputs": [],
   "source": [
    "tfs = transforms.Compose([\n",
    "    transforms.ToTensor()\n",
    "])"
   ]
  },
  {
   "cell_type": "code",
   "execution_count": 4,
   "metadata": {},
   "outputs": [
    {
     "name": "stdout",
     "output_type": "stream",
     "text": [
      "Downloading http://yann.lecun.com/exdb/mnist/train-images-idx3-ubyte.gz\n",
      "Downloading http://yann.lecun.com/exdb/mnist/train-images-idx3-ubyte.gz to C:/data\\MNIST\\raw\\train-images-idx3-ubyte.gz\n"
     ]
    },
    {
     "name": "stderr",
     "output_type": "stream",
     "text": [
      "9913344it [00:01, 6039315.85it/s]                             \n"
     ]
    },
    {
     "name": "stdout",
     "output_type": "stream",
     "text": [
      "Extracting C:/data\\MNIST\\raw\\train-images-idx3-ubyte.gz to C:/data\\MNIST\\raw\n",
      "\n",
      "Downloading http://yann.lecun.com/exdb/mnist/train-labels-idx1-ubyte.gz\n",
      "Downloading http://yann.lecun.com/exdb/mnist/train-labels-idx1-ubyte.gz to C:/data\\MNIST\\raw\\train-labels-idx1-ubyte.gz\n"
     ]
    },
    {
     "name": "stderr",
     "output_type": "stream",
     "text": [
      "29696it [00:00, 9872705.42it/s]          \n"
     ]
    },
    {
     "name": "stdout",
     "output_type": "stream",
     "text": [
      "Extracting C:/data\\MNIST\\raw\\train-labels-idx1-ubyte.gz to C:/data\\MNIST\\raw\n",
      "\n",
      "Downloading http://yann.lecun.com/exdb/mnist/t10k-images-idx3-ubyte.gz\n",
      "Downloading http://yann.lecun.com/exdb/mnist/t10k-images-idx3-ubyte.gz to C:/data\\MNIST\\raw\\t10k-images-idx3-ubyte.gz\n"
     ]
    },
    {
     "name": "stderr",
     "output_type": "stream",
     "text": [
      "1649664it [00:00, 8433904.74it/s]                            \n"
     ]
    },
    {
     "name": "stdout",
     "output_type": "stream",
     "text": [
      "Extracting C:/data\\MNIST\\raw\\t10k-images-idx3-ubyte.gz to C:/data\\MNIST\\raw\n",
      "\n",
      "Downloading http://yann.lecun.com/exdb/mnist/t10k-labels-idx1-ubyte.gz\n",
      "Downloading http://yann.lecun.com/exdb/mnist/t10k-labels-idx1-ubyte.gz to C:/data\\MNIST\\raw\\t10k-labels-idx1-ubyte.gz\n"
     ]
    },
    {
     "name": "stderr",
     "output_type": "stream",
     "text": [
      "5120it [00:00, 5115492.25it/s]          \n",
      "C:\\Users\\Wickkiey\\anaconda3\\envs\\gpu\\lib\\site-packages\\torchvision\\datasets\\mnist.py:498: UserWarning: The given NumPy array is not writeable, and PyTorch does not support non-writeable tensors. This means you can write to the underlying (supposedly non-writeable) NumPy array using the tensor. You may want to copy the array to protect its data or make it writeable before converting it to a tensor. This type of warning will be suppressed for the rest of this program. (Triggered internally at  ..\\torch\\csrc\\utils\\tensor_numpy.cpp:180.)\n",
      "  return torch.from_numpy(parsed.astype(m[2], copy=False)).view(*s)\n"
     ]
    },
    {
     "name": "stdout",
     "output_type": "stream",
     "text": [
      "Extracting C:/data\\MNIST\\raw\\t10k-labels-idx1-ubyte.gz to C:/data\\MNIST\\raw\n",
      "\n"
     ]
    }
   ],
   "source": [
    "mnist = datasets.MNIST(\"C:/data\",download=True,transform=tfs,train = True)"
   ]
  },
  {
   "cell_type": "code",
   "execution_count": 5,
   "metadata": {},
   "outputs": [],
   "source": [
    "mnist_loader = torch.utils.data.DataLoader(mnist,batch_size=4)"
   ]
  },
  {
   "cell_type": "code",
   "execution_count": 6,
   "metadata": {},
   "outputs": [],
   "source": [
    "a = iter(mnist_loader).next()[0]"
   ]
  },
  {
   "cell_type": "code",
   "execution_count": 7,
   "metadata": {},
   "outputs": [
    {
     "data": {
      "image/png": "[encoded data removed]",
      "text/plain": [
       "<Figure size 432x288 with 1 Axes>"
      ]
     },
     "metadata": {},
     "output_type": "display_data"
    }
   ],
   "source": [
    "show(make_grid(a))"
   ]
  },
  {
   "cell_type": "code",
   "execution_count": 8,
   "metadata": {},
   "outputs": [
    {
     "data": {
      "text/plain": [
       "torch.Size([1, 28, 28])"
      ]
     },
     "execution_count": 8,
     "metadata": {},
     "output_type": "execute_result"
    }
   ],
   "source": [
    "i = a[0]\n",
    "i.shape"
   ]
  },
  {
   "cell_type": "code",
   "execution_count": 9,
   "metadata": {},
   "outputs": [],
   "source": [
    "i = torch.unsqueeze(i,0)"
   ]
  },
  {
   "cell_type": "code",
   "execution_count": 10,
   "metadata": {},
   "outputs": [],
   "source": [
    "class model(nn.Module):\n",
    "    def __init__(self):\n",
    "        super().__init__()\n",
    "        self.comp = nn.Sequential(\n",
    "            nn.Conv2d(1,6,3),\n",
    "            nn.MaxPool2d(2,2),\n",
    "            nn.Conv2d(6,12,3)\n",
    "        )\n",
    "\n",
    "        self.decomp = nn.Sequential(\n",
    "            nn.ConvTranspose2d(12,6,7,2,0),\n",
    "            nn.BatchNorm2d(6),\n",
    "            nn.LeakyReLU(True),\n",
    "            nn.ConvTranspose2d(6,3,5,1,1),\n",
    "            nn.BatchNorm2d(3),\n",
    "            nn.LeakyReLU(True),\n",
    "            nn.ConvTranspose2d(3,1,2,1,1),\n",
    "            nn.LeakyReLU(True),\n",
    "           \n",
    "\n",
    "        )\n",
    "    def forward(self,x):\n",
    "        x =  self.comp(x)\n",
    "        return self.decomp(x)"
   ]
  },
  {
   "cell_type": "code",
   "execution_count": 11,
   "metadata": {},
   "outputs": [],
   "source": [
    "m  = model()"
   ]
  },
  {
   "cell_type": "code",
   "execution_count": 12,
   "metadata": {},
   "outputs": [],
   "source": [
    "optimizer = optim.Adam(m.parameters(),lr=0.0003)"
   ]
  },
  {
   "cell_type": "code",
   "execution_count": 13,
   "metadata": {},
   "outputs": [],
   "source": [
    "loss_fn = nn.MSELoss()"
   ]
  },
  {
   "cell_type": "code",
   "execution_count": 14,
   "metadata": {},
   "outputs": [],
   "source": [
    "b = iter(mnist_loader).next()\n",
    "o = m(b[0])"
   ]
  },
  {
   "cell_type": "code",
   "execution_count": 15,
   "metadata": {},
   "outputs": [
    {
     "data": {
      "text/plain": [
       "tensor(1.2493, grad_fn=<MseLossBackward>)"
      ]
     },
     "execution_count": 15,
     "metadata": {},
     "output_type": "execute_result"
    }
   ],
   "source": [
    "loss_fn(b[0],o)"
   ]
  },
  {
   "cell_type": "code",
   "execution_count": 17,
   "metadata": {},
   "outputs": [
    {
     "name": "stdout",
     "output_type": "stream",
     "text": [
      "Epoch 0/0 loss loss 1.2492738962173462\n",
      "Epoch 0/500 loss loss 0.07199254631996155\n",
      "Epoch 0/1000 loss loss 0.052905287593603134\n",
      "Epoch 0/1500 loss loss 0.04332705959677696\n",
      "Epoch 0/2000 loss loss 0.07594753801822662\n",
      "Epoch 0/2500 loss loss 0.04311077296733856\n",
      "Epoch 0/3000 loss loss 0.04254471883177757\n",
      "Epoch 0/3500 loss loss 0.056709643453359604\n",
      "Epoch 0/4000 loss loss 0.07602863013744354\n",
      "Epoch 0/4500 loss loss 0.04046717286109924\n",
      "Epoch 0/5000 loss loss 0.10001285374164581\n",
      "Epoch 0/5500 loss loss 0.0529167503118515\n",
      "Epoch 0/6000 loss loss 0.09073798358440399\n",
      "Epoch 0/6500 loss loss 0.09699565172195435\n",
      "Epoch 0/7000 loss loss 0.06786798685789108\n",
      "Epoch 0/7500 loss loss 0.04737952724099159\n",
      "Epoch 0/8000 loss loss 0.08699484169483185\n",
      "Epoch 0/8500 loss loss 0.058700498193502426\n",
      "Epoch 0/9000 loss loss 0.08350769430398941\n",
      "Epoch 0/9500 loss loss 0.07822836935520172\n",
      "Epoch 0/10000 loss loss 0.060248538851737976\n",
      "Epoch 0/10500 loss loss 0.04766151309013367\n",
      "Epoch 0/11000 loss loss 0.08109878748655319\n",
      "Epoch 0/11500 loss loss 0.044742483645677567\n",
      "Epoch 0/12000 loss loss 0.08511315286159515\n",
      "Epoch 0/12500 loss loss 0.11180023103952408\n",
      "Epoch 0/13000 loss loss 0.10168024897575378\n",
      "Epoch 0/13500 loss loss 0.11418160796165466\n",
      "Epoch 0/14000 loss loss 0.09756401926279068\n",
      "Epoch 0/14500 loss loss 0.056120019406080246\n"
     ]
    }
   ],
   "source": [
    "epochs = 1\n",
    "\n",
    "for e in range(epochs):\n",
    "    m.zero_grad()\n",
    "    for i, data in enumerate(mnist_loader):\n",
    "        x = data[0]\n",
    "        step = i\n",
    "\n",
    "        model_out = m(x)\n",
    "        loss_val = loss_fn(x,model_out)\n",
    "\n",
    "        loss_val.backward()\n",
    "        optimizer.step()\n",
    "        \n",
    "        if step %500 == 0:\n",
    "            print(f\"Epoch {e}/{step} loss loss {loss_val.item()}\")"
   ]
  },
  {
   "cell_type": "code",
   "execution_count": 242,
   "metadata": {},
   "outputs": [
    {
     "data": {
      "text/plain": [
       "torch.Size([1, 28, 28])"
      ]
     },
     "execution_count": 242,
     "metadata": {},
     "output_type": "execute_result"
    }
   ],
   "source": [
    "inp = iter(mnist_loader).next()[0][0]\n",
    "inp.shape"
   ]
  },
  {
   "cell_type": "code",
   "execution_count": 243,
   "metadata": {},
   "outputs": [
    {
     "data": {
      "text/plain": [
       "torch.Size([1, 1, 28, 28])"
      ]
     },
     "execution_count": 243,
     "metadata": {},
     "output_type": "execute_result"
    }
   ],
   "source": [
    "inp = torch.unsqueeze(inp,0)\n",
    "inp.shape\n"
   ]
  },
  {
   "cell_type": "code",
   "execution_count": 245,
   "metadata": {},
   "outputs": [],
   "source": [
    "inp_out = m(inp)"
   ]
  },
  {
   "cell_type": "code",
   "execution_count": 246,
   "metadata": {},
   "outputs": [
    {
     "data": {
      "text/plain": [
       "<matplotlib.image.AxesImage at 0x20fec6534c0>"
      ]
     },
     "execution_count": 246,
     "metadata": {},
     "output_type": "execute_result"
    },
    {
     "data": {
      "image/png": "[encoded data removed]",
      "text/plain": [
       "<Figure size 432x288 with 1 Axes>"
      ]
     },
     "metadata": {
      "needs_background": "light"
     },
     "output_type": "display_data"
    }
   ],
   "source": [
    "plt.imshow(inp[0][0])"
   ]
  },
  {
   "cell_type": "code",
   "execution_count": 249,
   "metadata": {},
   "outputs": [],
   "source": [
    "inp_out = inp_out.detach().numpy()"
   ]
  },
  {
   "cell_type": "code",
   "execution_count": 250,
   "metadata": {},
   "outputs": [
    {
     "data": {
      "text/plain": [
       "<matplotlib.image.AxesImage at 0x20fee57bb50>"
      ]
     },
     "execution_count": 250,
     "metadata": {},
     "output_type": "execute_result"
    },
    {
     "data": {
      "image/png": "[encoded data removed]",
      "text/plain": [
       "<Figure size 432x288 with 1 Axes>"
      ]
     },
     "metadata": {
      "needs_background": "light"
     },
     "output_type": "display_data"
    }
   ],
   "source": [
    "plt.imshow(inp_out[0][0])"
   ]
  },
  {
   "cell_type": "code",
   "execution_count": null,
   "metadata": {},
   "outputs": [],
   "source": []
  }
 ],
 "metadata": {
  "interpreter": {
   "hash": "e9b5491aa479ad6e49d72c1593d34a45ae2a9208799debcc869cd3053129dce6"
  },
  "kernelspec": {
   "display_name": "Python 3.8.8 ('deepcpu')",
   "language": "python",
   "name": "python3"
  },
  "language_info": {
   "codemirror_mode": {
    "name": "ipython",
    "version": 3
   },
   "file_extension": ".py",
   "mimetype": "text/x-python",
   "name": "python",
   "nbconvert_exporter": "python",
   "pygments_lexer": "ipython3",
   "version": "3.8.8"
  },
  "orig_nbformat": 4
 },
 "nbformat": 4,
 "nbformat_minor": 2
}
